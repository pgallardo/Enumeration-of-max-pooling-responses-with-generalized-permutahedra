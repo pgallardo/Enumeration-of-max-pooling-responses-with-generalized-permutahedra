{
 "cells": [
  {
   "cell_type": "markdown",
   "metadata": {
    "collapsed": false
   },
   "source": [
    "# Code for Enumeration of max-pooling responses with generalized permutahedra\n",
    "\n",
    "## version of September 25, 2022\n",
    "\n",
    "This Jupyter notebook contains code in Sage related to the paper \"Enumeration of max-pooling responses with generalized permutahedra\" by Laura Escobar, Patricio Gallardo, Javier González Anaya, José L. González, Guido Montúfar, and Alejandro H. Morales.\n",
    "\n"
   ]
  },
  {
   "cell_type": "markdown",
   "metadata": {
    "collapsed": false
   },
   "source": [
    "The main polytopes we study: $P_{n,ks}$ and $Q_n$"
   ]
  },
  {
   "cell_type": "code",
   "execution_count": 42,
   "metadata": {
    "collapsed": false
   },
   "outputs": [
   ],
   "source": [
    "# Code for sums of simplices\n",
    "# coordinate simplex I is a set of {0,1,...,n-1}\n",
    "def Delta(I,n):\n",
    "    IM = identity_matrix(n)\n",
    "    return Polyhedron(vertices=[IM[e] for e in I],backend='normaliz')\n",
    "\n",
    "# this generates a Minkowski sum of coordinate simplices. This is a special kind of generalized permutahedra\n",
    "# SL is a list of sets of [n], yL is a list of positive integers of the same size\n",
    "# returns Minkowski sum of yL[i]*Delta(SL[i])\n",
    "def Py(n,SL,yL):\n",
    "    return sum(yL[i]*Delta(SL[i],n) for i in range(len(SL)))\n",
    "\n",
    "# Code that returns the polytopes P_n,k,s of one dimensional arrays that are the Minkowski sum of n simplices Delta[s*i,s*i+1,...,s*i+k-1] for i=0,..,n-1.\n",
    "def PP(n,k,s):\n",
    "    SS = [set(range(s*i,k+s*i)) for i in range(n)],[1,]*(n)\n",
    "    print(SS)\n",
    "    return Py(s*(n-1)+k,SS[0],SS[1])\n",
    "\n",
    "# Code that returns the polytope Q_n from two dimensional arrays that are Minkoski sums of 3D simplices with vertices in 2x2 window on a 3xn input.\n",
    "def Q(n):\n",
    "    SS = [set([3*k,3*k+1,3*k+3,3*k+4]) for k in range(n-1)] + [set([3*k+1,3*k+2,3*k+4,3*k+5]) for k in range(n-1)]\n",
    "    print(SS)\n",
    "    return Py(3*n,SS,[1,]*2*(n-1))\n",
    "    "
   ]
  },
  {
   "cell_type": "markdown",
   "metadata": {
    "collapsed": false
   },
   "source": [
    "Example: $P_{2,3,1} = \\Delta_{0,1,2} + \\Delta_{1,2,3}$"
   ]
  },
  {
   "cell_type": "code",
   "execution_count": 2,
   "metadata": {
    "collapsed": false
   },
   "outputs": [
    {
     "name": "stdout",
     "output_type": "stream",
     "text": [
      "([{0, 1, 2}, {1, 2, 3}], [1, 1])\n"
     ]
    },
    {
     "data": {
      "text/plain": [
       "A 3-dimensional polyhedron in ZZ^4 defined as the convex hull of 7 vertices (use the .plot() method to plot)"
      ]
     },
     "execution_count": 2,
     "metadata": {
     },
     "output_type": "execute_result"
    }
   ],
   "source": [
    "P = PP(2,3,1)\n",
    "P"
   ]
  },
  {
   "cell_type": "code",
   "execution_count": 3,
   "metadata": {
    "collapsed": false
   },
   "outputs": [
    {
     "data": {
      "text/plain": [
       "(1, 7, 11, 6, 1)"
      ]
     },
     "execution_count": 3,
     "metadata": {
     },
     "output_type": "execute_result"
    }
   ],
   "source": [
    "P.f_vector()"
   ]
  },
  {
   "cell_type": "code",
   "execution_count": 4,
   "metadata": {
    "collapsed": false
   },
   "outputs": [
    {
     "name": "stdout",
     "output_type": "stream",
     "text": [
      "[{0, 1, 3, 4}, {1, 2, 4, 5}]\n"
     ]
    },
    {
     "data": {
      "text/plain": [
       "(1, 14, 37, 43, 26, 8, 1)"
      ]
     },
     "execution_count": 4,
     "metadata": {
     },
     "output_type": "execute_result"
    }
   ],
   "source": [
    "QP = Q(2)\n",
    "QP.f_vector()"
   ]
  },
  {
   "cell_type": "code",
   "execution_count": 5,
   "metadata": {
    "collapsed": false
   },
   "outputs": [
    {
     "name": "stdout",
     "output_type": "stream",
     "text": [
      "[{0, 1, 3, 4}, {3, 4, 6, 7}, {1, 2, 4, 5}, {8, 4, 5, 7}]\n"
     ]
    },
    {
     "data": {
      "text/plain": [
       "(1, 150, 692, 1432, 1705, 1256, 574, 154, 21, 1)"
      ]
     },
     "execution_count": 5,
     "metadata": {
     },
     "output_type": "execute_result"
    }
   ],
   "source": [
    "QP = Q(3)\n",
    "QP.f_vector()"
   ]
  },
  {
   "cell_type": "code",
   "execution_count": 0,
   "metadata": {
    "collapsed": false
   },
   "outputs": [
   ],
   "source": [
   ]
  },
  {
   "cell_type": "markdown",
   "metadata": {
    "collapsed": false
   },
   "source": [
    "##  Section 3: model for faces of generalized permutahedra"
   ]
  },
  {
   "cell_type": "code",
   "execution_count": 0,
   "metadata": {
    "collapsed": false
   },
   "outputs": [
   ],
   "source": [
   ]
  },
  {
   "cell_type": "code",
   "execution_count": 51,
   "metadata": {
    "collapsed": false
   },
   "outputs": [
   ],
   "source": [
    "# Code \n",
    "from itertools import *\n",
    "from collections import defaultdict\n",
    "\n",
    "# lamsets are the sets of the vertices of the coordinate simplices with groundset {0,1,...,r-1} for some r\n",
    "def get_face_partitions(lamsets):\n",
    "    R = len(lamsets)\n",
    "    P = product(*[list(range(1,2^len(lam))) for lam in lamsets])\n",
    "    VPS = []\n",
    "    for p in P:\n",
    "        currVP = []\n",
    "        for i in range(R):\n",
    "            lam = lamsets[i]\n",
    "            W = Set(lam).subsets()[p[i]]\n",
    "            L = Set(lam).symmetric_difference(W)\n",
    "            currVP.append((W,L))\n",
    "        VPS.append(currVP)\n",
    "    return VPS\n",
    "\n",
    "# r is the size of the groundset {0,1,...,r-1}, \n",
    "# Pi is the face partitions written as [(F1,complement(F1)),...,(Fk,complement(Fk))], \n",
    "# R are the equivalence classes on {0,1,...,r-1} induced by Pi\n",
    "def Partition_to_Graph(r,Pi,R):\n",
    "    R = get_equivalence_classes(r,Pi)\n",
    "    A = []\n",
    "    for pair in combinations(range(len(R)),r=2):\n",
    "        a,b = R[pair[0]],R[pair[1]]\n",
    "        if is_edge(a,b,Pi):\n",
    "            A.append(pair)\n",
    "        if is_edge(b,a,Pi):\n",
    "            A.append((pair[1],pair[0]))\n",
    "    for i in range(len(R)):\n",
    "        a = R[i]\n",
    "        if is_edge(a,a,Pi):\n",
    "            A.append((i,i))\n",
    "    return DiGraph([list(range(len(R))),A],loops=True)\n",
    "\n",
    "# r is the size of the ground set {0,1,2,...,r-1} and Pi is the face partitions written as [(F1,complement(F1)),...,(Fk,complement(Fk))]\n",
    "def get_equivalence_classes(r,Pi):\n",
    "    R = []\n",
    "    for pt in Pi:\n",
    "        W = pt[0]\n",
    "        for pairs in combinations(W,2):\n",
    "            R.append(pairs)\n",
    "            R.append(pairs[::-1])\n",
    "    D = DiGraph([list(range(r)),R])\n",
    "    #D = DiGraph([list(range(1,r+1)),R])\n",
    "    return D.connected_components()\n",
    "\n",
    "def is_edge(a,b,Pi):\n",
    "    return any([not(Set(a).intersection(Set(pt[0])).is_empty()) and not(Set(b).intersection(Set(pt[1])).is_empty()) for pt in Pi])\n",
    "\n",
    "\n",
    "\n",
    "class Graph_Partition(Parent):\n",
    "    def __init__(self, r, Pi):\n",
    "        self.size = r\n",
    "        self.ptn = Pi\n",
    "        self.equiv_classes = get_equivalence_classes(r,Pi)\n",
    "        self.G = Partition_to_Graph(r, Pi, self.equiv_classes)\n",
    "        \n",
    "    def get_Partition(self):\n",
    "        return self.ptn\n",
    "    \n",
    "    def get_vertices(self):\n",
    "        return self.equiv_classes\n",
    "    \n",
    "    def get_graph(self):\n",
    "        return self.G\n",
    "\n",
    "    def is_acyclic(self):\n",
    "        return self.G.is_directed_acyclic()\n",
    "\n",
    "    def get_dim(self):\n",
    "        return self.size - len(self.G.vertices())\n",
    "\n"
   ]
  },
  {
   "cell_type": "markdown",
   "metadata": {
    "collapsed": false
   },
   "source": [
    "### Example 3.5\n",
    "\n",
    "Consider the simplices $\\Delta_{\\lambda_{i}}\\subseteq\\R^{5}$, where $\\lambda_i:=\\{i,i+1,i+2\\}$ for $i\\in[3]$. Then, the two lists of faces\n",
    "  $\\Pi=\\left(\\Delta_{\\{01\\}},\\Delta_{\\{123\\}},\\Delta_{\\{23\\}}\\right)$ and $\\Pi'=\\left(\\Delta_{\\{012\\}},\\Delta_{\\{123\\}},\\Delta_{\\{23\\}}\\right)$.\n",
    "  \n",
    "  We encode such partitions $\\Pi$ as a list of tuples $[(F_i,\\lambda_i\\setminus F_i) \\mid F_i \\in \\Pi]$"
   ]
  },
  {
   "cell_type": "code",
   "execution_count": 52,
   "metadata": {
    "collapsed": false
   },
   "outputs": [
   ],
   "source": [
    "Pi = [({0,1},{2}),({1,2,3},{}),({2,3},{4})]"
   ]
  },
  {
   "cell_type": "code",
   "execution_count": 53,
   "metadata": {
    "collapsed": false
   },
   "outputs": [
   ],
   "source": [
    "GPi = Graph_Partition(5,Pi)"
   ]
  },
  {
   "cell_type": "code",
   "execution_count": 54,
   "metadata": {
    "collapsed": false
   },
   "outputs": [
    {
     "data": {
      "text/plain": [
       "[[0, 1, 2, 3], [4]]"
      ]
     },
     "execution_count": 54,
     "metadata": {
     },
     "output_type": "execute_result"
    }
   ],
   "source": [
    "GPi.get_vertices()"
   ]
  },
  {
   "cell_type": "code",
   "execution_count": 55,
   "metadata": {
    "collapsed": false
   },
   "outputs": [
    {
     "data": {
      "image/png": "[encoded data removed]",
      "text/plain": [
       "Graphics object consisting of 6 graphics primitives"
      ]
     },
     "execution_count": 55,
     "metadata": {
     },
     "output_type": "execute_result"
    }
   ],
   "source": [
    "GPi.get_graph().show()"
   ]
  },
  {
   "cell_type": "code",
   "execution_count": 56,
   "metadata": {
    "collapsed": false
   },
   "outputs": [
    {
     "data": {
      "text/plain": [
       "False"
      ]
     },
     "execution_count": 56,
     "metadata": {
     },
     "output_type": "execute_result"
    }
   ],
   "source": [
    "GPi.is_acyclic()"
   ]
  },
  {
   "cell_type": "code",
   "execution_count": 57,
   "metadata": {
    "collapsed": false
   },
   "outputs": [
   ],
   "source": [
    "Pip = [({0,1,2},{}),({1,2,3},{}),({2,3},{4})]"
   ]
  },
  {
   "cell_type": "code",
   "execution_count": 58,
   "metadata": {
    "collapsed": false
   },
   "outputs": [
   ],
   "source": [
    "GPip = Graph_Partition(5,Pip)"
   ]
  },
  {
   "cell_type": "code",
   "execution_count": 59,
   "metadata": {
    "collapsed": false
   },
   "outputs": [
    {
     "data": {
      "text/plain": [
       "[[0, 1, 2, 3], [4]]"
      ]
     },
     "execution_count": 59,
     "metadata": {
     },
     "output_type": "execute_result"
    }
   ],
   "source": [
    "GPip.get_vertices()"
   ]
  },
  {
   "cell_type": "code",
   "execution_count": 60,
   "metadata": {
    "collapsed": false
   },
   "outputs": [
    {
     "data": {
      "image/png": "[encoded data removed]",
      "text/plain": [
       "Graphics object consisting of 4 graphics primitives"
      ]
     },
     "execution_count": 60,
     "metadata": {
     },
     "output_type": "execute_result"
    }
   ],
   "source": [
    "GPip.get_graph().show()"
   ]
  },
  {
   "cell_type": "code",
   "execution_count": 61,
   "metadata": {
    "collapsed": false
   },
   "outputs": [
    {
     "data": {
      "text/plain": [
       "True"
      ]
     },
     "execution_count": 61,
     "metadata": {
     },
     "output_type": "execute_result"
    }
   ],
   "source": [
    "GPip.is_acyclic()"
   ]
  },
  {
   "cell_type": "code",
   "execution_count": 62,
   "metadata": {
    "collapsed": false
   },
   "outputs": [
    {
     "data": {
      "text/plain": [
       "3"
      ]
     },
     "execution_count": 62,
     "metadata": {
     },
     "output_type": "execute_result"
    }
   ],
   "source": [
    "GPip.get_dim()"
   ]
  },
  {
   "cell_type": "code",
   "execution_count": 0,
   "metadata": {
    "collapsed": false
   },
   "outputs": [
   ],
   "source": [
   ]
  },
  {
   "cell_type": "markdown",
   "metadata": {
    "collapsed": false
   },
   "source": [
    "## Example\n",
    "In the next example we recover the f-vector of $P_{2,3,1}=\\Delta_{012}+\\Delta_{123}$."
   ]
  },
  {
   "cell_type": "code",
   "execution_count": 63,
   "metadata": {
    "collapsed": false
   },
   "outputs": [
    {
     "data": {
      "text/plain": [
       "defaultdict(<class 'int'>, {0: 7, 1: 11, 2: 6, 3: 1})"
      ]
     },
     "execution_count": 63,
     "metadata": {
     },
     "output_type": "execute_result"
    }
   ],
   "source": [
    "PP = get_face_partitions([[0,1,2],[1,2,3]])\n",
    "dd = defaultdict(int)\n",
    "for P in PP:\n",
    "    G = Graph_Partition(4,P)\n",
    "    if G.is_acyclic():\n",
    "        dd[G.get_dim()] += 1\n",
    "dd"
   ]
  },
  {
   "cell_type": "markdown",
   "metadata": {
    "collapsed": false
   },
   "source": [
    "In the next example we recover the f-vector of $Q_2=\\Delta_{0134}+\\Delta_{1245}$."
   ]
  },
  {
   "cell_type": "code",
   "execution_count": 64,
   "metadata": {
    "collapsed": false
   },
   "outputs": [
    {
     "data": {
      "text/plain": [
       "defaultdict(<class 'int'>, {0: 14, 1: 37, 2: 43, 3: 26, 4: 8, 5: 1})"
      ]
     },
     "execution_count": 64,
     "metadata": {
     },
     "output_type": "execute_result"
    }
   ],
   "source": [
    "PP = get_face_partitions([[0,1,3,4],[1,2,4,5]])\n",
    "dd = defaultdict(int)\n",
    "for P in PP:\n",
    "    G = Graph_Partition(6,P)\n",
    "    if G.is_acyclic():\n",
    "        dd[G.get_dim()] += 1\n",
    "dd        "
   ]
  },
  {
   "cell_type": "markdown",
   "metadata": {
    "collapsed": false
   },
   "source": [
    "##  Section 4: one dimensional input layers"
   ]
  },
  {
   "cell_type": "code",
   "execution_count": 3,
   "metadata": {
    "collapsed": false
   },
   "outputs": [
   ],
   "source": [
    "def Amatrix(k,s):\n",
    "    def f(i,j):\n",
    "        if i>= s and j<=k-s-1:\n",
    "            if i-s == j:\n",
    "                return 1\n",
    "            else:\n",
    "                return 0\n",
    "        else:\n",
    "            return 1\n",
    "    return matrix(k,k, lambda i,j: f(i,j))"
   ]
  },
  {
   "cell_type": "markdown",
   "metadata": {
    "collapsed": false
   },
   "source": [
    "### Theorem 4.5:\n",
    "Then, the generating function of the number $(b_n^{(k,s)})_{n\\geq 1}$ of vertices of $P_{n,k,s}$ is given by\n",
    "$$\n",
    "\\sum_{n\\geq 0} b_{n+1}^{k,s}x^n = \\frac{\\sum_{i,j=1}^k (-1)^{i+j} Q_{i,j}(x)}{Q(x)},\n",
    "$$\n",
    "where $Q(x)=\\det(I - x A_{k,s})$.\n"
   ]
  },
  {
   "cell_type": "code",
   "execution_count": 31,
   "metadata": {
    "collapsed": false
   },
   "outputs": [
   ],
   "source": [
    "# generating function for the number of vertices of the polytopes P_{n,k,s} using the transfer-matrix theorem\n",
    "def getGF(k,s):\n",
    "    Q = (identity_matrix(k)-x*Amatrix(k,s))\n",
    "    tot = 0\n",
    "    for i in range(k):\n",
    "        for j in range(k):\n",
    "            R = list(range(k))\n",
    "            C = list(range(k))\n",
    "            R.remove(i)\n",
    "            C.remove(j)\n",
    "            tot += (-1)^(i+j)*Q.matrix_from_rows_and_columns(R,C).determinant()\n",
    "    den = Q.determinant()\n",
    "    return expand(tot)/expand(den)"
   ]
  },
  {
   "cell_type": "markdown",
   "metadata": {
    "collapsed": false
   },
   "source": [
    "For $k=3$ and $s=1$, the digraph $D_{3,1}$ is exactly the graph from Examples~\\ref{ex: k=3 and s=1} and \\ref{ex: asymptotics k=3 and s=1}. \n",
    "Thus the number $b_n^{(3,1)}$ of vertices of the polytope $P_{n,3,1}$ satisfies\n",
    "$$\n",
    "\\sum_{n\\geq 0} b_{n+1}^{(3,1)} x^n = \\frac{3+x-x^2}{1-2x-x^2+x^3}.\n",
    "$$"
   ]
  },
  {
   "cell_type": "code",
   "execution_count": 32,
   "metadata": {
    "collapsed": false
   },
   "outputs": [
    {
     "data": {
      "text/plain": [
       "-(x^2 - x - 3)/(x^3 - x^2 - 2*x + 1)"
      ]
     },
     "execution_count": 32,
     "metadata": {
     },
     "output_type": "execute_result"
    }
   ],
   "source": [
    "f = getGF(3,1)\n",
    "f"
   ]
  },
  {
   "cell_type": "code",
   "execution_count": 33,
   "metadata": {
    "collapsed": false
   },
   "outputs": [
    {
     "data": {
      "text/plain": [
       "3 + 7*x + 16*x^2 + 36*x^3 + 81*x^4 + 182*x^5 + 409*x^6 + 919*x^7 + 2065*x^8 + 4640*x^9 + Order(x^10)"
      ]
     },
     "execution_count": 33,
     "metadata": {
     },
     "output_type": "execute_result"
    }
   ],
   "source": [
    "f.series(x,10)"
   ]
  },
  {
   "cell_type": "markdown",
   "metadata": {
    "collapsed": false
   },
   "source": [
    "### Theorem 4.2: (large strides $s\\geq \\lfloor k/2\\rfloor$)\n",
    "Fix positive integers $k$ and $s$ such that \n",
    "$s \\in \\{ \\lceil k/2\\rceil,\\ldots,k-2 \\}$. Then, the generating function of $(b_n^{(k,s)})_{n\\geq 1}$ is given by\n",
    "$$\n",
    "1+\\sum_{n\\geq 1} b^{(k, s)}_{n} x^n\n",
    "= \\frac{1}{1-kx+(k-s)(k-s-1)x^2}. \n",
    "$$"
   ]
  },
  {
   "cell_type": "code",
   "execution_count": 13,
   "metadata": {
    "collapsed": false
   },
   "outputs": [
   ],
   "source": [
    "# s>=floor(k/2)\n",
    "def gfThm42(k,s):\n",
    "    return 1/(1-k*x+(k-s)*(k-s-1)*x^2)"
   ]
  },
  {
   "cell_type": "code",
   "execution_count": 18,
   "metadata": {
    "collapsed": false
   },
   "outputs": [
    {
     "data": {
      "text/plain": [
       "1/(2*x^2 - 4*x + 1)"
      ]
     },
     "execution_count": 18,
     "metadata": {
     },
     "output_type": "execute_result"
    }
   ],
   "source": [
    "g = gfThm42(4,2)\n",
    "g"
   ]
  },
  {
   "cell_type": "code",
   "execution_count": 15,
   "metadata": {
    "collapsed": false
   },
   "outputs": [
    {
     "data": {
      "text/plain": [
       "1 + 4*x + 14*x^2 + 48*x^3 + 164*x^4 + 560*x^5 + 1912*x^6 + 6528*x^7 + 22288*x^8 + 76096*x^9 + Order(x^10)"
      ]
     },
     "execution_count": 15,
     "metadata": {
     },
     "output_type": "execute_result"
    }
   ],
   "source": [
    "g.series(x,10)"
   ]
  },
  {
   "cell_type": "code",
   "execution_count": 0,
   "metadata": {
    "collapsed": false
   },
   "outputs": [
   ],
   "source": [
   ]
  },
  {
   "cell_type": "markdown",
   "metadata": {
    "collapsed": false
   },
   "source": [
    "### Theorem 4.3: (proportional strides $s\\mid k$)\n",
    "Fix positive integers $s$ and $r$ with $k=s(r+1)$. Then the generating function of $(b_n^{(k,s)})_{n\\geq 1}$ is given by\n",
    "$$\n",
    "1+\\sum_{n\\geq 1} b_{n}^{(k,s)} x^n = \n",
    "\\frac{\n",
    "1+(rs-s-2)x-(rs-1)x^{2}+sx^{r+1}\n",
    "}\n",
    "{\n",
    "1 - 2(s+1) x + (s +1)^2x^{2} + s x^{r + 1} - s^{2}(r + 1) x^{r + 2} + s(r s -1)x^{r + 3}\n",
    "}.\n",
    "$$"
   ]
  },
  {
   "cell_type": "code",
   "execution_count": 19,
   "metadata": {
    "collapsed": false
   },
   "outputs": [
   ],
   "source": [
    "def gfThm43(r,s):\n",
    "    num = 1+(r*s-s-2)*x-(r*s-1)*x^2+s*x^(r+1)\n",
    "    den = 1-2*(s+1)*x+(s+1)^2*x^2+s*x^(r+1)-s^2*(r+1)*x^(r+2)+s*(r*s-1)*x^(r+3)\n",
    "    return num/den\n"
   ]
  },
  {
   "cell_type": "code",
   "execution_count": 20,
   "metadata": {
    "collapsed": false
   },
   "outputs": [
    {
     "data": {
      "text/plain": [
       "(x^2 - 2*x + 1)/(2*x^4 - 8*x^3 + 11*x^2 - 6*x + 1)"
      ]
     },
     "execution_count": 20,
     "metadata": {
     },
     "output_type": "execute_result"
    }
   ],
   "source": [
    "h = gfThm43(1,2)\n",
    "h"
   ]
  },
  {
   "cell_type": "code",
   "execution_count": 21,
   "metadata": {
    "collapsed": false
   },
   "outputs": [
    {
     "data": {
      "text/plain": [
       "1 + 4*x + 14*x^2 + 48*x^3 + 164*x^4 + 560*x^5 + 1912*x^6 + 6528*x^7 + 22288*x^8 + 76096*x^9 + Order(x^10)"
      ]
     },
     "execution_count": 21,
     "metadata": {
     },
     "output_type": "execute_result"
    }
   ],
   "source": [
    "h.series(x,10)"
   ]
  },
  {
   "cell_type": "code",
   "execution_count": 22,
   "metadata": {
    "collapsed": false
   },
   "outputs": [
    {
     "data": {
      "text/plain": [
       "(x^3 - x^2 - x + 1)/(x^5 - 3*x^4 + x^3 + 4*x^2 - 4*x + 1)"
      ]
     },
     "execution_count": 22,
     "metadata": {
     },
     "output_type": "execute_result"
    }
   ],
   "source": [
    "f = gfThm43(2,1)\n",
    "f"
   ]
  },
  {
   "cell_type": "code",
   "execution_count": 23,
   "metadata": {
    "collapsed": false
   },
   "outputs": [
    {
     "data": {
      "text/plain": [
       "1 + 3*x + 7*x^2 + 16*x^3 + 36*x^4 + 81*x^5 + 182*x^6 + 409*x^7 + 919*x^8 + 2065*x^9 + Order(x^10)"
      ]
     },
     "execution_count": 23,
     "metadata": {
     },
     "output_type": "execute_result"
    }
   ],
   "source": [
    "f.series(x,10)"
   ]
  },
  {
   "cell_type": "code",
   "execution_count": 0,
   "metadata": {
    "collapsed": false
   },
   "outputs": [
   ],
   "source": [
   ]
  },
  {
   "cell_type": "markdown",
   "metadata": {
    "collapsed": false
   },
   "source": [
    "### Theorem 4.19\n",
    "Let $s,k$ be such that $k>s+1$. The number of facets of $P_{n,k,s}$ is $(s+2)(n-1)+k$.\n",
    "If $s,k$ are such that $ 1< k \\leq  s+1$, then the number of facets is $kn$."
   ]
  },
  {
   "cell_type": "code",
   "execution_count": 35,
   "metadata": {
    "collapsed": false
   },
   "outputs": [
   ],
   "source": [
    "def numfacets(n,k,s):\n",
    "    if k> s+1:\n",
    "        return (s+2)*(n-1)+k\n",
    "    elif 1<k and k<=s+1:\n",
    "        return k*n"
   ]
  },
  {
   "cell_type": "code",
   "execution_count": 36,
   "metadata": {
    "collapsed": false
   },
   "outputs": [
    {
     "data": {
      "text/plain": [
       "6"
      ]
     },
     "execution_count": 36,
     "metadata": {
     },
     "output_type": "execute_result"
    }
   ],
   "source": [
    "numfacets(2,3,1)"
   ]
  },
  {
   "cell_type": "code",
   "execution_count": 0,
   "metadata": {
    "collapsed": false
   },
   "outputs": [
   ],
   "source": [
   ]
  },
  {
   "cell_type": "markdown",
   "metadata": {
    "collapsed": false
   },
   "source": [
    "##  Section 5: two dimensional input layers"
   ]
  },
  {
   "cell_type": "markdown",
   "metadata": {
    "collapsed": false
   },
   "source": [
    "### Theorem 5.3:\n",
    "The number of vertices $V_n$ of the polytope $Q_n$ \n",
    "is given by the generating function\n",
    "$$\n",
    "x + \\sum_{n\\geq 2} V_n x^n = \\frac{x+x^2-x^3}{1-13x+31x^2-20x^3+4x^4} = x+ 14 x^2 + 150 x^3 + 1536 x^4 + 15594 x^5 + \\cdots\n",
    "$$"
   ]
  },
  {
   "cell_type": "code",
   "execution_count": 38,
   "metadata": {
    "collapsed": false
   },
   "outputs": [
   ],
   "source": [
    "def gfThm53():\n",
    "    return (x+x^2-x^3)/(1-13*x+31*x^2-20*x^3+4*x^4)"
   ]
  },
  {
   "cell_type": "code",
   "execution_count": 40,
   "metadata": {
    "collapsed": false
   },
   "outputs": [
    {
     "data": {
      "text/plain": [
       "-(x^3 - x^2 - x)/(4*x^4 - 20*x^3 + 31*x^2 - 13*x + 1)"
      ]
     },
     "execution_count": 40,
     "metadata": {
     },
     "output_type": "execute_result"
    }
   ],
   "source": [
    "f = gfThm53()\n",
    "f"
   ]
  },
  {
   "cell_type": "code",
   "execution_count": 41,
   "metadata": {
    "collapsed": false
   },
   "outputs": [
    {
     "data": {
      "text/plain": [
       "1*x + 14*x^2 + 150*x^3 + 1536*x^4 + 15594*x^5 + 158050*x^6 + 1601356*x^7 + 16223814*x^8 + 164366170*x^9 + Order(x^10)"
      ]
     },
     "execution_count": 41,
     "metadata": {
     },
     "output_type": "execute_result"
    }
   ],
   "source": [
    "f.series(x,10)"
   ]
  },
  {
   "cell_type": "markdown",
   "metadata": {
    "collapsed": false
   },
   "source": [
    "## Section 6: Final Remarks"
   ]
  },
  {
   "cell_type": "markdown",
   "metadata": {
    "collapsed": false
   },
   "source": [
    "Table 2:  Initial terms for the number of edges of the polytopes $P_{n,k,1}$."
   ]
  },
  {
   "cell_type": "code",
   "execution_count": 47,
   "metadata": {
    "collapsed": false
   },
   "outputs": [
    {
     "name": "stdout",
     "output_type": "stream",
     "text": [
      "([{0, 1, 2}], [1])\n",
      "([{0, 1, 2}, {1, 2, 3}], [1, 1])\n",
      "([{0, 1, 2}, {1, 2, 3}, {2, 3, 4}], [1, 1, 1])\n",
      "([{0, 1, 2}, {1, 2, 3}, {2, 3, 4}, {3, 4, 5}], [1, 1, 1, 1])\n",
      "([{0, 1, 2}, {1, 2, 3}, {2, 3, 4}, {3, 4, 5}, {4, 5, 6}], [1, 1, 1, 1, 1])\n"
     ]
    },
    {
     "data": {
      "text/plain": [
       "[3, 11, 34, 96, 260]"
      ]
     },
     "execution_count": 47,
     "metadata": {
     },
     "output_type": "execute_result"
    }
   ],
   "source": [
    "[len(PP(n,3,1).graph().edges()) for n in range(1,6)]"
   ]
  },
  {
   "cell_type": "markdown",
   "metadata": {
    "collapsed": false
   },
   "source": [
    "Table 3: Initial terms for the total number of faces of the polytopes $P_{n,k,1}$."
   ]
  },
  {
   "cell_type": "code",
   "execution_count": 49,
   "metadata": {
    "collapsed": false
   },
   "outputs": [
    {
     "name": "stdout",
     "output_type": "stream",
     "text": [
      "([{0, 1, 2}], [1])\n",
      "([{0, 1, 2}, {1, 2, 3}], [1, 1])\n",
      "([{0, 1, 2}, {1, 2, 3}, {2, 3, 4}], [1, 1, 1])\n",
      "([{0, 1, 2}, {1, 2, 3}, {2, 3, 4}, {3, 4, 5}], [1, 1, 1, 1])\n",
      "([{0, 1, 2}, {1, 2, 3}, {2, 3, 4}, {3, 4, 5}, {4, 5, 6}], [1, 1, 1, 1, 1])\n"
     ]
    },
    {
     "data": {
      "text/plain": [
       "[8, 26, 88, 298, 1016]"
      ]
     },
     "execution_count": 49,
     "metadata": {
     },
     "output_type": "execute_result"
    }
   ],
   "source": [
    "[sum(PP(n,3,1).f_vector()) for n in range(1,6)]"
   ]
  },
  {
   "cell_type": "code",
   "execution_count": 0,
   "metadata": {
    "collapsed": false
   },
   "outputs": [
   ],
   "source": [
   ]
  }
 ],
 "metadata": {
  "kernelspec": {
   "display_name": "SageMath 9.6",
   "language": "sagemath",
   "metadata": {
    "cocalc": {
     "description": "Open-source mathematical software system",
     "priority": 10,
     "url": "https://www.sagemath.org/"
    }
   },
   "name": "sage-9.6",
   "resource_dir": "/ext/jupyter/kernels/sage-9.6"
  },
  "language_info": {
   "codemirror_mode": {
    "name": "ipython",
    "version": 3
   },
   "file_extension": ".py",
   "mimetype": "text/x-python",
   "name": "python",
   "nbconvert_exporter": "python",
   "pygments_lexer": "ipython3",
   "version": "3.10.3"
  }
 },
 "nbformat": 4,
 "nbformat_minor": 4
}