{
 "cells": [
  {
   "cell_type": "markdown",
   "id": "eb4c4c",
   "metadata": {
    "collapsed": false
   },
   "source": [
    "The purpose of the following calculations is to verify some algebraic steps from the article \"Enumeration of max\\-pooling responses with generalized permutohedra\" by Laura Escobar, Patricio Gallardo, Javier González Anaya, José L. González, Guido Montúfar, and Alejandro H. Morales.\n"
   ]
  },
  {
   "cell_type": "code",
   "execution_count": 14,
   "id": "0be011",
   "metadata": {
    "collapsed": false
   },
   "outputs": [
    {
     "data": {
      "text/plain": [
       "[1 1 1 1 1 1]\n",
       "[1 1 1 1 1 1]\n",
       "[1 0 0 0 1 1]\n",
       "[0 1 0 0 1 1]\n",
       "[0 0 1 0 1 1]\n",
       "[0 0 0 1 1 1]"
      ]
     },
     "execution_count": 14,
     "metadata": {
     },
     "output_type": "execute_result"
    }
   ],
   "source": [
    "\"\"\"\n",
    "we define the (k x k) matriz A_{k,s} used in the calculations of section four.  Recall that k=r(s+1) for positive integers r and s\n",
    "\"\"\"\n",
    "\n",
    "def Amatrix(k,s):\n",
    "    def f(i,j):\n",
    "        if i>= s and j<=k-s-1:\n",
    "            if i-s == j:\n",
    "                return 1\n",
    "            else:\n",
    "                return 0\n",
    "        else:\n",
    "            return 1\n",
    "    return matrix(k,k, lambda i,j: f(i,j))\n",
    "\n",
    "Amatrix(6,2)"
   ]
  },
  {
   "cell_type": "markdown",
   "id": "a09489",
   "metadata": {
    "collapsed": false
   },
   "source": [
    "The following is the expression for the determinant of the matrix $A-xI$  as given in Lemma 4.11\n",
    "\n"
   ]
  },
  {
   "cell_type": "code",
   "execution_count": 15,
   "id": "5c6383",
   "metadata": {
    "collapsed": false
   },
   "outputs": [
   ],
   "source": [
    "\"\"\"\n",
    "We start with the functions that appear in Equation 4.13\n",
    "\"\"\"\n",
    "var('x, s, t, r, k, j, i')\n",
    "def g(x,i):\n",
    "    # defined in Equation 4.7\n",
    "    return sum(x^j, j, 0, i).expand()\n",
    "def b(x,i):\n",
    "    # defined in Equation 4.7\n",
    "    return g(x,i) - x^(i+1)\n",
    "def rm(x,r):\n",
    "    # defined in Equation 4.11\n",
    "    m =r-1\n",
    "    return ( -x*b(x,m) + x*g(x,m) ).expand()\n",
    "def am(x,r,s):\n",
    "    # defined in Equation 4.11\n",
    "    m= r-1\n",
    "    return ((s-1-x)*g(x,m) + b(x,m) ).expand()\n",
    "def cm(x,r,s):\n",
    "    # defined in Equation 4.11\n",
    "    m =r-1\n",
    "    return  ( (s-1)*g(x,m) + (1-x)*b(x,m) ).expand()\n",
    "def hm(x,r,s):\n",
    "    # defined in Equation 4.12\n",
    "    term_sum  = 1 - sum( (s-1)*g(x,i) + b(x,i) , i, 0, r-2)\n",
    "    return (term_sum ).expand()\n",
    "\n",
    "def detB(x,r,s):\n",
    "    # Formula given in Equation 4.13\n",
    "    m= r-1\n",
    "    return ( (-1)^(s*r + (s-1))*rm(x,r)^(s-1)*( s*hm(x,r,s) - (s-1)*am(x,r,s) - cm(x,r,s) ) ).expand()"
   ]
  },
  {
   "cell_type": "code",
   "execution_count": 16,
   "id": "5c7897",
   "metadata": {
    "collapsed": false
   },
   "outputs": [
    {
     "name": "stdout",
     "output_type": "stream",
     "text": [
      "Actual value =  x^8 - 4*x^7 + 4*x^5 + 10*x^4 Formula =  x^8 - 4*x^7 + 4*x^5 + 10*x^4\n",
      "-----------  next ----------------\n",
      "Actual value = x^4 - 2*x^3 - x^2 + 2 Formula = x^4 - 2*x^3 - x^2 + 2\n"
     ]
    }
   ],
   "source": [
    "\"\"\"\n",
    "We run  small sanity check by comparing our function detB(x,r,s) with actual determinants from the matrices\n",
    "\"\"\"\n",
    "def AI(x,r,s):\n",
    "    k =s*(r+1)\n",
    "    return (Amatrix(k,s) - x*identity_matrix(k)).determinant()\n",
    "\n",
    "print( \"Actual value = \", AI(x,3,2), \"Formula = \", detB(x,3,2) )\n",
    "print(\"-----------  next ----------------\")\n",
    "print( \"Actual value =\", AI(x,3,1), \"Formula =\", detB(x,3,1) )\n"
   ]
  },
  {
   "cell_type": "code",
   "execution_count": 17,
   "id": "725601",
   "metadata": {
    "collapsed": false
   },
   "outputs": [
    {
     "data": {
      "text/html": "<html>\\(\\displaystyle {\\left(\\left(-1\\right)^{2 \\, r s + 2 \\, s} {\\left(r + 1\\right)} s^{2} x - \\left(-1\\right)^{2 \\, r s + 2 \\, s} s x^{2} - {\\left(r s^{2} - s\\right)} \\left(-1\\right)^{2 \\, r s + 2 \\, s} + {\\left(2 \\, \\left(-1\\right)^{2 \\, r s + 2 \\, s} {\\left(s + 1\\right)} x^{2} - \\left(-1\\right)^{2 \\, r s + 2 \\, s} x^{3} - {\\left(s^{2} + 2 \\, s + 1\\right)} \\left(-1\\right)^{2 \\, r s + 2 \\, s} x\\right)} x^{r}\\right)} x^{-r - 1} {\\left(x^{r + 1}\\right)}^{s}\\)</html>",
      "text/latex": [
       "$\\displaystyle {\\left(\\left(-1\\right)^{2 \\, r s + 2 \\, s} {\\left(r + 1\\right)} s^{2} x - \\left(-1\\right)^{2 \\, r s + 2 \\, s} s x^{2} - {\\left(r s^{2} - s\\right)} \\left(-1\\right)^{2 \\, r s + 2 \\, s} + {\\left(2 \\, \\left(-1\\right)^{2 \\, r s + 2 \\, s} {\\left(s + 1\\right)} x^{2} - \\left(-1\\right)^{2 \\, r s + 2 \\, s} x^{3} - {\\left(s^{2} + 2 \\, s + 1\\right)} \\left(-1\\right)^{2 \\, r s + 2 \\, s} x\\right)} x^{r}\\right)} x^{-r - 1} {\\left(x^{r + 1}\\right)}^{s}$"
      ],
      "text/plain": [
       "((-1)^(2*r*s + 2*s)*(r + 1)*s^2*x - (-1)^(2*r*s + 2*s)*s*x^2 - (r*s^2 - s)*(-1)^(2*r*s + 2*s) + (2*(-1)^(2*r*s + 2*s)*(s + 1)*x^2 - (-1)^(2*r*s + 2*s)*x^3 - (s^2 + 2*s + 1)*(-1)^(2*r*s + 2*s)*x)*x^r)*x^(-r - 1)*(x^(r + 1))^s"
      ]
     },
     "execution_count": 17,
     "metadata": {
     },
     "output_type": "execute_result"
    }
   ],
   "source": [
    "# Equation 4.14 has two sides. We start with the left one.\n",
    "LeftSide =  ( (-1)^(r*s +s +1)*( ( (x-1)^2*detB(x,r,s).simplify_full() ).simplify_rational() ) ).simplify_full()\n",
    "\n",
    "# We show the fomula next. However, we will need to factor afterward.\n",
    "show(LeftSide)\n"
   ]
  },
  {
   "cell_type": "code",
   "execution_count": 18,
   "id": "d45067",
   "metadata": {
    "collapsed": false
   },
   "outputs": [
    {
     "name": "stdout",
     "output_type": "stream",
     "text": [
      "Factor number  0 is\n"
     ]
    },
    {
     "data": {
      "text/html": "<html>\\(\\displaystyle r s^{2} x - r s^{2} + s^{2} x - s^{2} x^{r + 1} - s x^{2} + 2 \\, s x^{r + 2} - 2 \\, s x^{r + 1} + s - x^{r + 3} + 2 \\, x^{r + 2} - x^{r + 1}\\)</html>",
      "text/latex": [
       "$\\displaystyle r s^{2} x - r s^{2} + s^{2} x - s^{2} x^{r + 1} - s x^{2} + 2 \\, s x^{r + 2} - 2 \\, s x^{r + 1} + s - x^{r + 3} + 2 \\, x^{r + 2} - x^{r + 1}$"
      ],
      "text/plain": [
       "r*s^2*x - r*s^2 + s^2*x - s^2*x^(r + 1) - s*x^2 + 2*s*x^(r + 2) - 2*s*x^(r + 1) + s - x^(r + 3) + 2*x^(r + 2) - x^(r + 1)"
      ]
     },
     "execution_count": 18,
     "metadata": {
     },
     "output_type": "execute_result"
    },
    {
     "name": "stdout",
     "output_type": "stream",
     "text": [
      "Factor number  1 is\n"
     ]
    },
    {
     "data": {
      "text/html": "<html>\\(\\displaystyle \\left(-1\\right)^{2 \\, r s + 2 \\, s}\\)</html>",
      "text/latex": [
       "$\\displaystyle \\left(-1\\right)^{2 \\, r s + 2 \\, s}$"
      ],
      "text/plain": [
       "(-1)^(2*r*s + 2*s)"
      ]
     },
     "execution_count": 18,
     "metadata": {
     },
     "output_type": "execute_result"
    },
    {
     "name": "stdout",
     "output_type": "stream",
     "text": [
      "Factor number  2 is\n"
     ]
    },
    {
     "data": {
      "text/html": "<html>\\(\\displaystyle x^{-r - 1}\\)</html>",
      "text/latex": [
       "$\\displaystyle x^{-r - 1}$"
      ],
      "text/plain": [
       "x^(-r - 1)"
      ]
     },
     "execution_count": 18,
     "metadata": {
     },
     "output_type": "execute_result"
    },
    {
     "name": "stdout",
     "output_type": "stream",
     "text": [
      "Factor number  3 is\n"
     ]
    },
    {
     "data": {
      "text/html": "<html>\\(\\displaystyle {\\left(x^{r + 1}\\right)}^{s}\\)</html>",
      "text/latex": [
       "$\\displaystyle {\\left(x^{r + 1}\\right)}^{s}$"
      ],
      "text/plain": [
       "(x^(r + 1))^s"
      ]
     },
     "execution_count": 18,
     "metadata": {
     },
     "output_type": "execute_result"
    }
   ],
   "source": [
    "# We factor the expression and list the factors. \n",
    "for i in enumerate(LeftSide.factor_list()):\n",
    "    print(\"Factor number \", i[0], \"is\"); show(i[1][0]^(i[1][1]))"
   ]
  },
  {
   "cell_type": "markdown",
   "id": "6d7807",
   "metadata": {
    "collapsed": false
   },
   "source": [
    "We notice that SageMath cannot simplify the above expression further. However, it is clear that the last two terms can be factored into a single one and that the sign is positive for all r and s. \n"
   ]
  },
  {
   "cell_type": "code",
   "execution_count": 19,
   "id": "6f0920",
   "metadata": {
    "collapsed": false
   },
   "outputs": [
    {
     "data": {
      "text/html": "<html>\\(\\displaystyle {\\left(r s^{2} x - r s^{2} + s^{2} x - s^{2} x^{r + 1} - s x^{2} + 2 \\, s x^{r + 2} - 2 \\, s x^{r + 1} + s - x^{r + 3} + 2 \\, x^{r + 2} - x^{r + 1}\\right)} x^{{\\left(r + 1\\right)} {\\left(s - 1\\right)}}\\)</html>",
      "text/latex": [
       "$\\displaystyle {\\left(r s^{2} x - r s^{2} + s^{2} x - s^{2} x^{r + 1} - s x^{2} + 2 \\, s x^{r + 2} - 2 \\, s x^{r + 1} + s - x^{r + 3} + 2 \\, x^{r + 2} - x^{r + 1}\\right)} x^{{\\left(r + 1\\right)} {\\left(s - 1\\right)}}$"
      ],
      "text/plain": [
       "(r*s^2*x - r*s^2 + s^2*x - s^2*x^(r + 1) - s*x^2 + 2*s*x^(r + 2) - 2*s*x^(r + 1) + s - x^(r + 3) + 2*x^(r + 2) - x^(r + 1))*x^((r + 1)*(s - 1))"
      ]
     },
     "execution_count": 19,
     "metadata": {
     },
     "output_type": "execute_result"
    }
   ],
   "source": [
    "\"\"\"\n",
    "By studying the factors in above expression, we conclude that LeftSide is equal to the following\n",
    "\"\"\"\n",
    "SimplifiedLeftSide = LeftSide.factor_list()[0][0]*x^((s-1)*(r+1) ) \n",
    "show(SimplifiedLeftSide )\n"
   ]
  },
  {
   "cell_type": "code",
   "execution_count": 20,
   "id": "4010fb",
   "metadata": {
    "collapsed": false
   },
   "outputs": [
    {
     "data": {
      "text/html": "<html>\\(\\displaystyle {\\left(r + 1\\right)} s^{2} x - r s^{2} - s x^{2} + {\\left(2 \\, {\\left(s + 1\\right)} x^{2} - x^{3} - {\\left(s^{2} + 2 \\, s + 1\\right)} x\\right)} x^{r} + s\\)</html>",
      "text/latex": [
       "$\\displaystyle {\\left(r + 1\\right)} s^{2} x - r s^{2} - s x^{2} + {\\left(2 \\, {\\left(s + 1\\right)} x^{2} - x^{3} - {\\left(s^{2} + 2 \\, s + 1\\right)} x\\right)} x^{r} + s$"
      ],
      "text/plain": [
       "(r + 1)*s^2*x - r*s^2 - s*x^2 + (2*(s + 1)*x^2 - x^3 - (s^2 + 2*s + 1)*x)*x^r + s"
      ]
     },
     "execution_count": 20,
     "metadata": {
     },
     "output_type": "execute_result"
    }
   ],
   "source": [
    "# In the article the first factor is defined as the function S(x), which we show next\n",
    "\n",
    "show( (LeftSide.factor_list()[0][0]).simplify_full() )\n",
    "\n",
    "# For later calculations, we define it as a function.\n",
    "\n",
    "def S(x,r,s):\n",
    "    return (r + 1)*s^2*x - r*s^2 - s*x^2 + (2*(s + 1)*x^2 - x^3 - (s^2 + 2*s + 1)*x)*x^r + s\n",
    "\n"
   ]
  },
  {
   "cell_type": "code",
   "execution_count": 30,
   "id": "2d1d38",
   "metadata": {
    "collapsed": false
   },
   "outputs": [
    {
     "name": "stdout",
     "output_type": "stream",
     "text": [
      "Actual value for r= 1  sa = 1 is =  x^2 - 2*x Formula Lemma =  x^2 - 2*x Difference =  0\n",
      "-----------  next ----------------\n",
      "Actual value for r= 2  sa = 1 is =  -x^3 + 2*x^2 + x - 1 Formula Lemma =  -x^3 + 2*x^2 + x - 1 Difference =  0\n",
      "-----------  next ----------------\n",
      "Actual value for r= 3  sa = 1 is =  x^4 - 2*x^3 - x^2 + 2 Formula Lemma =  x^4 - 2*x^3 - x^2 + 2 Difference =  0\n",
      "-----------  next ----------------\n"
     ]
    },
    {
     "name": "stdout",
     "output_type": "stream",
     "text": [
      "Actual value for r= 1  sa = 2 is =  x^4 - 4*x^3 + 2*x^2 Formula Lemma =  x^4 - 4*x^3 + 2*x^2 Difference =  0\n",
      "-----------  next ----------------\n",
      "Actual value for r= 2  sa = 2 is =  x^6 - 4*x^5 + 6*x^3 Formula Lemma =  x^6 - 4*x^5 + 6*x^3 Difference =  0\n",
      "-----------  next ----------------\n",
      "Actual value for r= 3  sa = 2 is =  x^8 - 4*x^7 + 4*x^5 + 10*x^4 Formula Lemma =  x^8 - 4*x^7 + 4*x^5 + 10*x^4 Difference =  0\n",
      "-----------  next ----------------\n",
      "Actual value for r= 1  sa = 3 is =  x^6 - 6*x^5 + 6*x^4 Formula Lemma =  x^6 - 6*x^5 + 6*x^4 Difference =  0\n",
      "-----------  next ----------------\n"
     ]
    },
    {
     "name": "stdout",
     "output_type": "stream",
     "text": [
      "Actual value for r= 2  sa = 3 is =  -x^9 + 6*x^8 - 3*x^7 - 15*x^6 Formula Lemma =  -x^9 + 6*x^8 - 3*x^7 - 15*x^6 Difference =  0\n",
      "-----------  next ----------------\n"
     ]
    },
    {
     "name": "stdout",
     "output_type": "stream",
     "text": [
      "Actual value for r= 3  sa = 3 is =  x^12 - 6*x^11 + 3*x^10 + 12*x^9 + 24*x^8 Formula Lemma =  x^12 - 6*x^11 + 3*x^10 + 12*x^9 + 24*x^8 Difference =  0\n",
      "-----------  next ----------------\n"
     ]
    }
   ],
   "source": [
    "# Double check\n",
    "\n",
    "for sa in range(1, 4):\n",
    "    for ra in range(1, 4):\n",
    "        print( \"Actual value for r=\",ra, \" sa =\",sa ,\"is = \", AI(x,ra,sa).expand(), \"Formula Lemma = \", \n",
    "              (-1)^(sa*(ra+1)+1)*(x^((sa-1)*(ra+1))*S(x,ra,sa)/(x-1)^2).simplify_full(), \"Difference = \", \n",
    "              AI(x,ra,sa).expand() - (-1)^(sa*(ra+1)+1)*(x^((sa-1)*(ra+1))*S(x,ra,sa)/(x-1)^2).simplify_full() );\n",
    "        print(\"-----------  next ----------------\")"
   ]
  },
  {
   "cell_type": "markdown",
   "id": "d6b53a",
   "metadata": {
    "collapsed": false
   },
   "source": [
    "**End of Lemma 4.11**\n",
    "\n"
   ]
  },
  {
   "cell_type": "markdown",
   "id": "ee2be4",
   "metadata": {
    "collapsed": false
   },
   "source": [
    "Next, we go to Lemma 4.12\n"
   ]
  },
  {
   "cell_type": "code",
   "execution_count": 54,
   "id": "e02db1",
   "metadata": {
    "collapsed": false
   },
   "outputs": [
   ],
   "source": [
    "# The following expression is the statement of Lemma 4.11\n",
    "def DeterminantAI(x,r,s):\n",
    "    return ( (-1)^(s*(r+1)+1)*x^((s-1)*(r+1))/(x-1)^2*S(x,r,s) ).simplify_full()"
   ]
  },
  {
   "cell_type": "code",
   "execution_count": 69,
   "id": "f3cc82",
   "metadata": {
    "collapsed": false
   },
   "outputs": [
   ],
   "source": [
    "ObjectiveExpression = ((x-1)^2*(-1)^(s*(r+1))*x^(s*(r+1))*DeterminantAI(1/x,r,s) ).factor() "
   ]
  },
  {
   "cell_type": "code",
   "execution_count": 70,
   "id": "3572ca",
   "metadata": {
    "collapsed": false
   },
   "outputs": [
    {
     "name": "stdout",
     "output_type": "stream",
     "text": [
      "Factor number 0 is r*s^2*x^3 - r*s^2*x^2 + s^2*x^2*(1/x)^r - s^2*x^2 - s*x^3 + 2*s*x^2*(1/x)^r - 2*s*x*(1/x)^r + x^2*(1/x)^r + s*x - 2*x*(1/x)^r + (1/x)^r\n",
      " \n",
      "Factor number 1 is (-1)^(2*r*s + 2*s)\n",
      " \n",
      "Factor number 2 is x^(r*s + s)\n",
      " \n",
      "Factor number 3 is (1/x)^(r*s - r + s)\n",
      " \n"
     ]
    }
   ],
   "source": [
    "for i in enumerate( ObjectiveExpression.factor_list()):\n",
    "    print(\"Factor number\", i[0], \"is\", i[1][0]^(i[1][1]) )\n",
    "    print( \" \")"
   ]
  },
  {
   "cell_type": "code",
   "execution_count": 80,
   "id": "42d5c6",
   "metadata": {
    "collapsed": false
   },
   "outputs": [
    {
     "data": {
      "text/html": "<html>\\(\\displaystyle {\\left(r s^{2} x^{3} - r s^{2} x^{2} + s^{2} x^{2} \\frac{1}{x}^{r} - s^{2} x^{2} - s x^{3} + 2 \\, s x^{2} \\frac{1}{x}^{r} - 2 \\, s x \\frac{1}{x}^{r} + x^{2} \\frac{1}{x}^{r} + s x - 2 \\, x \\frac{1}{x}^{r} + \\frac{1}{x}^{r}\\right)} x^{r}\\)</html>",
      "text/latex": [
       "$\\displaystyle {\\left(r s^{2} x^{3} - r s^{2} x^{2} + s^{2} x^{2} \\frac{1}{x}^{r} - s^{2} x^{2} - s x^{3} + 2 \\, s x^{2} \\frac{1}{x}^{r} - 2 \\, s x \\frac{1}{x}^{r} + x^{2} \\frac{1}{x}^{r} + s x - 2 \\, x \\frac{1}{x}^{r} + \\frac{1}{x}^{r}\\right)} x^{r}$"
      ],
      "text/plain": [
       "(r*s^2*x^3 - r*s^2*x^2 + s^2*x^2*(1/x)^r - s^2*x^2 - s*x^3 + 2*s*x^2*(1/x)^r - 2*s*x*(1/x)^r + x^2*(1/x)^r + s*x - 2*x*(1/x)^r + (1/x)^r)*x^r"
      ]
     },
     "execution_count": 80,
     "metadata": {
     },
     "output_type": "execute_result"
    }
   ],
   "source": [
    "\"\"\"\n",
    "From above list we can see that the product of the last two factors: \n",
    " x^(r*s + s) and (1/x)^(r*s - r + s) is equal to x^r. We can also see that the sign is positive. \n",
    " Therefore, the objective expression (x-1)^Q(x) is equal to\n",
    "\n",
    "\"\"\" \n",
    "\n",
    "def NewObjectiveFunction(x,r,s):\n",
    "    first_factor = (r*s^2*x^3 - r*s^2*x^2 + s^2*x^2*(1/x)^r - s^2*x^2 - s*x^3 + 2*s*x^2*(1/x)^r - 2*s*x*(1/x)^r + x^2*(1/x)^r + s*x - 2*x*(1/x)^r + (1/x)^r).simplify_full()\n",
    "    return (x^r*first_factor)\n",
    "\n",
    "show ( (NewObjectiveFunction(x,r,s).expand()).factor() )"
   ]
  },
  {
   "cell_type": "markdown",
   "id": "84b667",
   "metadata": {
    "collapsed": false
   },
   "source": [
    "SageMath cannnot simplify any longer, but we can do it from here. \\*\\* END LEMMA 4.12 \\*\\*\n"
   ]
  },
  {
   "cell_type": "code",
   "execution_count": 0,
   "id": "6249a2",
   "metadata": {
    "collapsed": false
   },
   "outputs": [
   ],
   "source": [
   ]
  }
 ],
 "metadata": {
  "kernelspec": {
   "argv": [
    "sage-10.0",
    "--python",
    "-m",
    "sage.repl.ipython_kernel",
    "--matplotlib=inline",
    "-f",
    "{connection_file}"
   ],
   "display_name": "SageMath 10.0",
   "env": {
   },
   "language": "sagemath",
   "metadata": {
    "cocalc": {
     "description": "Open-source mathematical software system",
     "priority": 1,
     "url": "https://www.sagemath.org/"
    }
   },
   "name": "sage-10.0",
   "resource_dir": "/ext/jupyter/kernels/sage-10.0"
  }
 },
 "nbformat": 4,
 "nbformat_minor": 4
}